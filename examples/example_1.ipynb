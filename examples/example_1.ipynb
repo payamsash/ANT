{
 "cells": [
  {
   "cell_type": "code",
   "execution_count": null,
   "id": "045742e3",
   "metadata": {},
   "outputs": [],
   "source": [
    "%matplotlib qt\n",
    "from pathlib import Path\n",
    "import json\n",
    "import numpy as np\n",
    "import joypy\n",
    "import seaborn as sns"
   ]
  },
  {
   "cell_type": "code",
   "execution_count": null,
   "id": "ffce10c0",
   "metadata": {},
   "outputs": [],
   "source": [
    "subject = \"bert\"\n",
    "subjects_dir = Path.cwd().parent / \"data\" / \"subjects\"\n",
    "delays_dir = subjects_dir / subject / \"delays\""
   ]
  },
  {
   "cell_type": "code",
   "execution_count": null,
   "id": "fb572c23",
   "metadata": {},
   "outputs": [],
   "source": [
    "my_dict_1 = {}\n",
    "for fname in delays_dir.iterdir():\n",
    "    stem = fname.stem.lower()\n",
    "    if stem.startswith(\"acq\"):\n",
    "        continue\n",
    "    elif stem.startswith(\"artifact\"):\n",
    "        key = \"ORICA\"\n",
    "    else:\n",
    "        continue\n",
    "\n",
    "    with open(fname, \"r\") as f:\n",
    "        data = json.load(f)\n",
    "    my_dict_1[key] = np.array(data) * 1e3\n",
    "\n",
    "my_dict_2 = {}\n",
    "for visit in range(1, 6):\n",
    "    fname = delays_dir / f\"method_delay_visit_{visit}.json\"\n",
    "    with open(fname, \"r\") as f:\n",
    "        data = json.load(f)\n",
    "    for key, val in data.items():\n",
    "        my_dict_2[key] = np.array(val) * 1000"
   ]
  },
  {
   "cell_type": "code",
   "execution_count": null,
   "id": "11c820ed",
   "metadata": {},
   "outputs": [],
   "source": [
    "joypy.joyplot(my_dict_1, fade=True, overlap=2, color=\"lightsteelblue\")"
   ]
  },
  {
   "cell_type": "code",
   "execution_count": null,
   "id": "8367a5a2",
   "metadata": {},
   "outputs": [],
   "source": [
    "colors = sns.cubehelix_palette(n_colors=10, rot=-0.2, as_cmap=False)[4:6]\n",
    "joypy.joyplot(my_dict_1, fade=True, overlap=2, color=colors)"
   ]
  },
  {
   "cell_type": "code",
   "execution_count": null,
   "id": "b678e7d2",
   "metadata": {},
   "outputs": [],
   "source": [
    "colors = sns.cubehelix_palette(n_colors=10, rot=-0.2, as_cmap=False)\n",
    "joypy.joyplot(my_dict_2, fade=True, overlap=2, color=colors)"
   ]
  }
 ],
 "metadata": {
  "kernelspec": {
   "display_name": "venv (3.10.9)",
   "language": "python",
   "name": "python3"
  },
  "language_info": {
   "codemirror_mode": {
    "name": "ipython",
    "version": 3
   },
   "file_extension": ".py",
   "mimetype": "text/x-python",
   "name": "python",
   "nbconvert_exporter": "python",
   "pygments_lexer": "ipython3",
   "version": "3.10.9"
  }
 },
 "nbformat": 4,
 "nbformat_minor": 5
}
