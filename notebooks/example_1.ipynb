{
 "cells": [
  {
   "cell_type": "code",
   "execution_count": null,
   "id": "045742e3",
   "metadata": {},
   "outputs": [],
   "source": [
    "%matplotlib qt\n",
    "from pathlib import Path\n",
    "import json\n",
    "import numpy as np\n",
    "import joypy\n",
    "import seaborn as sns"
   ]
  },
  {
   "cell_type": "code",
   "execution_count": null,
   "id": "ffce10c0",
   "metadata": {},
   "outputs": [],
   "source": [
    "subject = \"bert\"\n",
    "subjects_dir = Path.cwd().parent / \"data\" / \"subjects\"\n",
    "delays_dir = subjects_dir / subject / \"delays\""
   ]
  },
  {
   "cell_type": "code",
   "execution_count": null,
   "id": "fb572c23",
   "metadata": {},
   "outputs": [],
   "source": [
    "my_dict_1 = {}\n",
    "for fname in delays_dir.iterdir():\n",
    "    stem = fname.stem.lower()\n",
    "    if stem.startswith(\"acq\"):\n",
    "        continue\n",
    "    elif stem.startswith(\"artifact\"):\n",
    "        key = \"ORICA\"\n",
    "    else:\n",
    "        continue\n",
    "\n",
    "    with open(fname, \"r\") as f:\n",
    "        data = json.load(f)\n",
    "    my_dict_1[key] = np.array(data) * 1e3\n",
    "\n",
    "my_dict_2 = {}\n",
    "for visit in range(1, 6):\n",
    "    fname = delays_dir / f\"method_delay_visit_{visit}.json\"\n",
    "    with open(fname, \"r\") as f:\n",
    "        data = json.load(f)\n",
    "    for key, val in data.items():\n",
    "        my_dict_2[key] = np.array(val) * 1000"
   ]
  },
  {
   "cell_type": "code",
   "execution_count": null,
   "id": "11c820ed",
   "metadata": {},
   "outputs": [],
   "source": [
    "joypy.joyplot(my_dict_1, fade=True, overlap=2, color=\"lightsteelblue\")"
   ]
  },
  {
   "cell_type": "code",
   "execution_count": null,
   "id": "8367a5a2",
   "metadata": {},
   "outputs": [],
   "source": [
    "colors = sns.cubehelix_palette(n_colors=10, rot=-0.2, as_cmap=False)[4:6]\n",
    "joypy.joyplot(my_dict_1, fade=True, overlap=2, color=colors)"
   ]
  },
  {
   "cell_type": "code",
   "execution_count": null,
   "id": "b678e7d2",
   "metadata": {},
   "outputs": [],
   "source": [
    "colors = sns.cubehelix_palette(n_colors=10, rot=-0.2, as_cmap=False)\n",
    "joypy.joyplot(my_dict_2, fade=True, overlap=2, color=colors)"
   ]
  },
  {
   "cell_type": "markdown",
   "id": "a436b10d",
   "metadata": {},
   "source": [
    "for example"
   ]
  },
  {
   "cell_type": "code",
   "execution_count": null,
   "id": "6944528b",
   "metadata": {},
   "outputs": [],
   "source": []
  },
  {
   "cell_type": "code",
   "execution_count": null,
   "id": "3f9f9a1e",
   "metadata": {},
   "outputs": [],
   "source": [
    "from pathlib import Path\n",
    "import pandas as pd\n",
    "import matplotlib.pyplot as plt\n",
    "import seaborn as sns\n",
    "\n",
    "\n",
    "fname = Path.cwd().parent / \"data\" / \"sample\" / \"method_delays.csv\"\n",
    "df = pd.read_csv(fname, index_col=0)\n",
    "\n",
    "## function for mapping text into plot\n",
    "def label(x, color, label):\n",
    "    ax = plt.gca()\n",
    "    ax.text(0.8, .2, label, fontweight=\"bold\", fontstyle='italic', color=color,\n",
    "            ha=\"left\", va=\"center\", transform=ax.transAxes)\n",
    "    \n",
    "def plot_method_delays(df, method_names, xlim, ylim, bw_adjust=1, top=0.72):\n",
    "    df_sub = df.query(\"method == @method_names\")\n",
    "    pal = sns.cubehelix_palette(len(method_names), rot=-.2, light=.7)\n",
    "\n",
    "    g = sns.FacetGrid(\n",
    "        df_sub, row=\"method\", hue=\"method\", aspect=14, height=.75,\n",
    "        palette=pal, row_order=method_names, xlim=xlim, ylim=ylim\n",
    "    )\n",
    "\n",
    "    g.map(sns.kdeplot, \"delay\", bw_adjust=bw_adjust, clip_on=False, clip=xlim,\n",
    "            fill=True, alpha=1, linewidth=1.5)\n",
    "    g.map(sns.kdeplot, \"delay\", clip_on=False, color=\"w\", clip=xlim,\n",
    "            lw=2, bw_adjust=bw_adjust)\n",
    "    g.refline(y=0, linewidth=2, linestyle=\"-\", color=None, clip_on=False)\n",
    "    g.map(label, \"delay\")\n",
    "\n",
    "    g.figure.subplots_adjust(hspace=.15, top=top)\n",
    "    g.set_titles(\"\")\n",
    "    g.set(yticks=[], ylabel=\"\", xlabel=r\"method delay ($m s$)\")\n",
    "    g.despine(bottom=True, left=True)\n",
    "    return g\n",
    "\n",
    "plot_method_delays(df, [\"sensor_power\", \"individual_peak_power\", \"band_ratio\"], xlim=[0, 0.2], ylim=[0, 50])\n",
    "plot_method_delays(df, [\"entropy\", \"argmax_freq\", \"sensor_connectivity_corr\"], xlim=[0.2, 1.8], ylim=[0, 6], bw_adjust=1.5)\n",
    "plot_method_delays(df, [\"sensor_cfc\", \"sensor_connectivity_pli\"], xlim=[-5, 30], ylim=[0, 0.2], bw_adjust=1.8, top=0.65)\n",
    "plot_method_delays(df, [\"sensor_graph_sqe\", \"sensor_graph_corr\"], xlim=[30, 80], ylim=[0, .1])\n",
    "plot_method_delays(df, [\"source_connectivity_pli\", \"source_connectivity_corr\", \"source_power\", \"source_graph\"], xlim=[0, 700], ylim=[0, 0.01], bw_adjust=1.5)"
   ]
  }
 ],
 "metadata": {
  "kernelspec": {
   "display_name": "venv (3.10.9)",
   "language": "python",
   "name": "python3"
  },
  "language_info": {
   "codemirror_mode": {
    "name": "ipython",
    "version": 3
   },
   "file_extension": ".py",
   "mimetype": "text/x-python",
   "name": "python",
   "nbconvert_exporter": "python",
   "pygments_lexer": "ipython3",
   "version": "3.10.9"
  }
 },
 "nbformat": 4,
 "nbformat_minor": 5
}
