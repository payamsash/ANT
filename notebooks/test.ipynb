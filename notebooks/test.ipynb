{
 "cells": [
  {
   "cell_type": "code",
   "execution_count": null,
   "metadata": {},
   "outputs": [],
   "source": [
    "%matplotlib qt\n",
    "from nf_realtime import NF_Realtime\n",
    "import mne\n",
    "import mne_lsl\n",
    "import bsl\n",
    "import time"
   ]
  },
  {
   "cell_type": "code",
   "execution_count": null,
   "metadata": {},
   "outputs": [],
   "source": [
    "nf = NF_Realtime(freq_range=(8, 13),\n",
    "                artifact_rejection=False,\n",
    "                return_delay=True,\n",
    "                params=None,\n",
    "                verbose=False)\n",
    "\n",
    "\n",
    "nf.connect(connection_params=None, mock_lsl=True)\n",
    "\n",
    "time.sleep(5)\n",
    "nf.record_baseline(baseline_duration=10)"
   ]
  },
  {
   "cell_type": "code",
   "execution_count": null,
   "metadata": {},
   "outputs": [],
   "source": [
    "time.sleep(2)\n",
    "acq_delays, method_delays = nf.record_main(duration=60, modality=\"source_graph\")"
   ]
  },
  {
   "cell_type": "code",
   "execution_count": 4,
   "metadata": {},
   "outputs": [],
   "source": [
    "import numpy as np\n",
    "fname = '/Users/payamsadeghishabestari/meg_gsp/stc_labels/tinmeg1/subject_539_alpha_aparc_mean.npy'\n",
    "stc_in_labels = np.load(file=fname, allow_pickle=True)"
   ]
  },
  {
   "cell_type": "code",
   "execution_count": null,
   "metadata": {},
   "outputs": [],
   "source": [
    "def log_degree_barrier(X, dist_type, alpha, beta, step, w0, maxit, rtol):\n",
    "\n",
    "\n",
    "        # Parse X\n",
    "        N = X.shape[0]\n",
    "        z = pdist(X, dist_type)  # Pairwise distances\n",
    "        z = z/np.max(z) ###  ADDITION TO ORIGINAL CODE\n",
    "\n",
    "        # Parse stepsize\n",
    "        if (step <= 0) or (step > 1):\n",
    "                raise ValueError(\"step must be a number between 0 and 1.\")\n",
    "\n",
    "        # Parse initial weights\n",
    "        w0 = np.zeros(z.shape) if w0 is None else w0\n",
    "        if (w0.shape != z.shape):\n",
    "                raise ValueError(\"w0 must be of dimension N(N-1)/2.\")\n",
    "\n",
    "        # Get primal-dual linear map\n",
    "        K, Kt = weight2degmap(N)\n",
    "        norm_K = np.sqrt(2 * (N - 1))\n",
    "\n",
    "        # Assemble functions in the objective\n",
    "        f1 = functions.func()\n",
    "        f1._eval = lambda w: 2 * np.dot(w, z)\n",
    "        f1._prox = lambda w, gamma: np.maximum(0, w - (2 * gamma * z))\n",
    "\n",
    "        f2 = functions.func()\n",
    "        f2._eval = lambda w: - alpha * np.sum(np.log(np.maximum(\n",
    "        np.finfo(np.float64).eps, K(w))))\n",
    "        f2._prox = lambda d, gamma: np.maximum(\n",
    "        0, 0.5 * (d + np.sqrt(d**2 + (4 * alpha * gamma))))\n",
    "\n",
    "        f3 = functions.func()\n",
    "        f3._eval = lambda w: beta * np.sum(w**2)\n",
    "        f3._grad = lambda w: 2 * beta * w\n",
    "        lipg = 2 * beta\n",
    "\n",
    "        # Rescale stepsize\n",
    "        stepsize = step / (1 + lipg + norm_K)\n",
    "\n",
    "        # Solve problem\n",
    "        solver = solvers.mlfbf(L=K, Lt=Kt, step=stepsize)\n",
    "        problem = solvers.solve([f1, f2, f3], x0=w0, solver=solver, maxit=maxit,\n",
    "                                rtol=rtol, verbosity=None)\n",
    "\n",
    "        # Transform weight matrix from vector form to matrix form\n",
    "        graph_matrix = squareform(problem['sol'])\n",
    "\n",
    "        return graph_matrix"
   ]
  }
 ],
 "metadata": {
  "kernelspec": {
   "display_name": "Python 3",
   "language": "python",
   "name": "python3"
  },
  "language_info": {
   "codemirror_mode": {
    "name": "ipython",
    "version": 3
   },
   "file_extension": ".py",
   "mimetype": "text/x-python",
   "name": "python",
   "nbconvert_exporter": "python",
   "pygments_lexer": "ipython3",
   "version": "3.10.9"
  }
 },
 "nbformat": 4,
 "nbformat_minor": 2
}
