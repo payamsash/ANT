{
 "cells": [
  {
   "cell_type": "code",
   "execution_count": null,
   "metadata": {},
   "outputs": [],
   "source": [
    "%matplotlib qt\n",
    "import time\n",
    "import json\n",
    "import numpy as np\n",
    "import matplotlib.pyplot as plt\n",
    "from nf_realtime import NF_Realtime\n",
    "from simulate_eeg_raw import simulate_eeg_raw"
   ]
  },
  {
   "cell_type": "markdown",
   "metadata": {},
   "source": [
    "Simulate a recording"
   ]
  },
  {
   "cell_type": "code",
   "execution_count": null,
   "metadata": {},
   "outputs": [],
   "source": [
    "simulate_eeg_raw(brain_label=\"pericalcarine-lh\", frequency=10, amplitude=2, duration=1,\n",
    "                    gap_duration=6, n_repetition=50, start=12, verbose=None)"
   ]
  },
  {
   "cell_type": "markdown",
   "metadata": {},
   "source": [
    "Streaming"
   ]
  },
  {
   "cell_type": "code",
   "execution_count": null,
   "metadata": {},
   "outputs": [],
   "source": [
    "## initiate the object\n",
    "freq_range = (8, 13)\n",
    "picks = [\"P7\", \"P5\", \"P3\", \"PO3\", \"PO7\", \"O1\"]\n",
    "fif_file = \"/Users/payamsadeghishabestari/codes/mne-nf/simulated_data/pericalcarine-lh_10_2-raw.fif\"\n",
    "connection_params = {\"Mock_connection\": {\"fname\": fif_file}}\n",
    "\n",
    "nf = NF_Realtime(subject_id=\"sample\",\n",
    "                freq_range=freq_range,\n",
    "                picks=picks,\n",
    "                artifact_correction=False,\n",
    "                params_path=None,\n",
    "                verbose=False)\n",
    "\n",
    "nf.connect_lsl(session=\"baseline\", connection_params=connection_params, mock_lsl=True)\n",
    "time.sleep(1)\n",
    "#nf.record_baseline(baseline_duration=10)"
   ]
  },
  {
   "cell_type": "code",
   "execution_count": null,
   "metadata": {},
   "outputs": [],
   "source": [
    "nf.connect_lsl(session=\"main\", connection_params=connection_params, mock_lsl=True)"
   ]
  },
  {
   "cell_type": "code",
   "execution_count": null,
   "metadata": {},
   "outputs": [],
   "source": [
    "nf.record_nf(duration=60, modality=\"sensor_power\", modality_params=None)"
   ]
  },
  {
   "cell_type": "code",
   "execution_count": null,
   "metadata": {},
   "outputs": [],
   "source": [
    "nf.save()"
   ]
  },
  {
   "cell_type": "code",
   "execution_count": null,
   "metadata": {},
   "outputs": [],
   "source": [
    "nf.create_report()"
   ]
  },
  {
   "cell_type": "code",
   "execution_count": null,
   "metadata": {},
   "outputs": [],
   "source": [
    "fname = \"/Users/payamsadeghishabestari/codes/mne-nf/subjects/sample/sensor_power_nf_data.json\"\n",
    "with open(fname, 'r') as file:\n",
    "    data = json.load(file)\n",
    "\n",
    "data = np.array(data) * 1e12\n",
    "times = np.linspace(0, 60, len(data))\n",
    "fig, ax = plt.subplots(1, 1, figsize=(13, 4))\n",
    "ax.plot(times, data)\n",
    "ax.set_xlabel(\"time (s)\")\n",
    "ax.set_ylabel(\"power\")"
   ]
  }
 ],
 "metadata": {
  "kernelspec": {
   "display_name": "Python 3",
   "language": "python",
   "name": "python3"
  },
  "language_info": {
   "codemirror_mode": {
    "name": "ipython",
    "version": 3
   },
   "file_extension": ".py",
   "mimetype": "text/x-python",
   "name": "python",
   "nbconvert_exporter": "python",
   "pygments_lexer": "ipython3",
   "version": "3.10.9"
  }
 },
 "nbformat": 4,
 "nbformat_minor": 2
}
