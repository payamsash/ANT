{
 "cells": [
  {
   "cell_type": "code",
   "execution_count": null,
   "metadata": {},
   "outputs": [],
   "source": [
    "%matplotlib qt\n",
    "from pathlib import Path\n",
    "from ant.tools import simulate_eeg_raw\n",
    "from ant import NFRealtime\n",
    "from mne.io import read_raw_fif\n",
    "import time"
   ]
  },
  {
   "cell_type": "markdown",
   "metadata": {},
   "source": [
    "Simulate a recording"
   ]
  },
  {
   "cell_type": "code",
   "execution_count": null,
   "metadata": {},
   "outputs": [],
   "source": [
    "kwargs = {\n",
    "    \"brain_label\": \"pericalcarine-lh\",\n",
    "    \"frequency\": 10,\n",
    "    \"amplitude\": 1,\n",
    "    \"duration\": 1,\n",
    "    \"gap_duration\": 6,\n",
    "    \"n_repetition\": 8,\n",
    "    \"start\": 5,\n",
    "    \"fname_save\": None\n",
    "}\n",
    "raw = simulate_eeg_raw(**kwargs)"
   ]
  },
  {
   "cell_type": "code",
   "execution_count": null,
   "metadata": {},
   "outputs": [],
   "source": [
    "raw.plot()"
   ]
  },
  {
   "cell_type": "markdown",
   "metadata": {},
   "source": [
    "Stream a recording"
   ]
  },
  {
   "cell_type": "code",
   "execution_count": null,
   "metadata": {},
   "outputs": [],
   "source": [
    "brain_label = \"pericalcarine-lh\"\n",
    "frequency = 10\n",
    "amplitude = 2\n",
    "fname = Path.cwd().parent / \"data\" / \"simulated\" / f\"{brain_label}_{frequency}Hz_{amplitude}-raw.fif\"\n",
    "\n",
    "kwargs = {\n",
    "            \"subject_id\": \"bert\",\n",
    "            \"visit\": 6,\n",
    "            \"subjects_dir\": Path.cwd().parent / \"data\" / \"subjects\",\n",
    "            \"montage\": \"easycap-M1\",\n",
    "            \"mri\": False,\n",
    "            \"artifact_correction\": False,\n",
    "            \"verbose\": False\n",
    "        }\n",
    "nf = NFRealtime(session=\"baseline\", **kwargs)\n",
    "nf.connect_to_lsl(mock_lsl=True, fname=fname)\n",
    "time.sleep(4)\n",
    "nf.record_baseline(baseline_duration=6)\n",
    "nf.get_blink_template()"
   ]
  },
  {
   "cell_type": "code",
   "execution_count": null,
   "metadata": {},
   "outputs": [],
   "source": [
    "nf.plot_rt()\n",
    "print(\"hello\")"
   ]
  },
  {
   "cell_type": "code",
   "execution_count": null,
   "metadata": {},
   "outputs": [],
   "source": [
    "nf.record_main(\n",
    "                duration=30, \n",
    "                modality=[\"sensor_power\", \"band_ratio\"],#, \"entropy\", \"sensor_connectivity\", \"sensor_graph\", \"individual_peak_power\"],\n",
    "                picks=None,\n",
    "                winsize=1,\n",
    "                estimate_delays=True,\n",
    "                modality_params=None,\n",
    "                show_raw_signal= False,\n",
    "                show_nf_signal= True,\n",
    "                time_window=20,\n",
    "                show_design_viz= False,\n",
    "                design_viz= \"VisualRorschach\",\n",
    "                show_brain_activation=True\n",
    "                )"
   ]
  }
 ],
 "metadata": {
  "kernelspec": {
   "display_name": "venv (3.10.9)",
   "language": "python",
   "name": "python3"
  },
  "language_info": {
   "codemirror_mode": {
    "name": "ipython",
    "version": 3
   },
   "file_extension": ".py",
   "mimetype": "text/x-python",
   "name": "python",
   "nbconvert_exporter": "python",
   "pygments_lexer": "ipython3",
   "version": "3.10.9"
  }
 },
 "nbformat": 4,
 "nbformat_minor": 2
}
