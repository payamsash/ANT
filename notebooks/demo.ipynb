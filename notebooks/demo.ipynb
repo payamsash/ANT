{
 "cells": [
  {
   "cell_type": "code",
   "execution_count": 1,
   "metadata": {},
   "outputs": [
    {
     "name": "stderr",
     "output_type": "stream",
     "text": [
      "/Users/payamsadeghishabestari/ANT/src/ant/tools/tools.py:12: DeprecationWarning: \n",
      "The `fooof` package is being deprecated and replaced by the `specparam` (spectral parameterization) package.\n",
      "This version of `fooof` (1.1) is fully functional, but will not be further updated.\n",
      "New projects are recommended to update to using `specparam` (see Changelog for details).\n",
      "  from fooof import FOOOF\n"
     ]
    }
   ],
   "source": [
    "%matplotlib qt\n",
    "from pathlib import Path\n",
    "from ant.tools import simulate_eeg_raw\n",
    "from ant import NFRealtime\n",
    "from mne.io import read_raw_fif\n",
    "import time"
   ]
  },
  {
   "cell_type": "markdown",
   "metadata": {},
   "source": [
    "Simulate a recording"
   ]
  },
  {
   "cell_type": "code",
   "execution_count": 2,
   "metadata": {},
   "outputs": [
    {
     "name": "stdout",
     "output_type": "stream",
     "text": [
      "Extracting parameters from /Users/payamsadeghishabestari/ANT/data/sample/sample_data.vhdr...\n",
      "Setting channel info structure...\n",
      "Reading 0 ... 320939  =      0.000 ...   641.878 secs...\n",
      "0 files missing from root.txt in /Users/payamsadeghishabestari/mne_data/MNE-fsaverage-data\n",
      "0 files missing from bem.txt in /Users/payamsadeghishabestari/mne_data/MNE-fsaverage-data/fsaverage\n",
      "Source space          : /Users/payamsadeghishabestari/mne_data/MNE-fsaverage-data/fsaverage/bem/fsaverage-ico-5-src.fif\n",
      "MRI -> head transform : /Users/payamsadeghishabestari/ANT/venv/lib/python3.10/site-packages/mne/data/fsaverage/fsaverage-trans.fif\n",
      "Measurement data      : instance of Info\n",
      "Conductor model   : /Users/payamsadeghishabestari/mne_data/MNE-fsaverage-data/fsaverage/bem/fsaverage-5120-5120-5120-bem-sol.fif\n",
      "Accurate field computations\n",
      "Do computations in head coordinates\n",
      "Free source orientations\n",
      "\n",
      "Reading /Users/payamsadeghishabestari/mne_data/MNE-fsaverage-data/fsaverage/bem/fsaverage-ico-5-src.fif...\n",
      "Read 2 source spaces a total of 20484 active source locations\n",
      "\n",
      "Coordinate transformation: MRI (surface RAS) -> head\n",
      "    0.999994 0.003552 0.000202      -1.76 mm\n",
      "    -0.003558 0.998389 0.056626      31.09 mm\n",
      "    -0.000001 -0.056626 0.998395      39.60 mm\n",
      "    0.000000 0.000000 0.000000       1.00\n",
      "\n",
      "Read  62 EEG channels from info\n",
      "Head coordinate coil definitions created.\n",
      "Source spaces are now in head coordinates.\n",
      "\n",
      "Setting up the BEM model using /Users/payamsadeghishabestari/mne_data/MNE-fsaverage-data/fsaverage/bem/fsaverage-5120-5120-5120-bem-sol.fif...\n",
      "\n",
      "Loading surfaces...\n",
      "\n",
      "Loading the solution matrix...\n",
      "\n",
      "Three-layer model surfaces loaded.\n",
      "Loaded linear collocation BEM solution from /Users/payamsadeghishabestari/mne_data/MNE-fsaverage-data/fsaverage/bem/fsaverage-5120-5120-5120-bem-sol.fif\n",
      "Employing the head->MRI coordinate transform with the BEM model.\n",
      "BEM model fsaverage-5120-5120-5120-bem-sol.fif is now set up\n",
      "\n",
      "Source spaces are in head coordinates.\n",
      "Checking that the sources are inside the surface (will take a few...)\n",
      "Checking surface interior status for 10242 points...\n",
      "    Found  2433/10242 points inside  an interior sphere of radius   47.7 mm\n",
      "    Found     0/10242 points outside an exterior sphere of radius   98.3 mm\n",
      "    Found     0/ 7809 points outside using surface Qhull\n",
      "    Found     0/ 7809 points outside using solid angles\n",
      "    Total 10242/10242 points inside the surface\n",
      "Interior check completed in 2246.3 ms\n",
      "Checking surface interior status for 10242 points...\n",
      "    Found  2241/10242 points inside  an interior sphere of radius   47.7 mm\n",
      "    Found     0/10242 points outside an exterior sphere of radius   98.3 mm\n",
      "    Found     0/ 8001 points outside using surface Qhull\n",
      "    Found     0/ 8001 points outside using solid angles\n",
      "    Total 10242/10242 points inside the surface\n",
      "Interior check completed in 2271.4 ms\n",
      "\n",
      "Setting up for EEG...\n",
      "Computing EEG at 20484 source locations (free orientations)...\n",
      "\n",
      "Finished.\n",
      "Reading labels from parcellation...\n",
      "   read 1 labels from /Users/payamsadeghishabestari/mne_data/MNE-fsaverage-data/fsaverage/label/lh.aparc.annot\n",
      "   read 0 labels from /Users/payamsadeghishabestari/mne_data/MNE-fsaverage-data/fsaverage/label/rh.aparc.annot\n",
      "Setting up raw simulation: 1 position, \"cos2\" interpolation\n",
      "Event information not stored\n",
      "    Interval 0.000–2.000 s\n",
      "Setting up forward solutions\n",
      "    Interval 0.000–2.000 s\n",
      "    Interval 0.000–2.000 s\n",
      "    Interval 0.000–2.000 s\n",
      "    Interval 0.000–2.000 s\n",
      "    Interval 0.000–2.000 s\n",
      "    Interval 0.000–2.000 s\n",
      "    Interval 0.000–2.000 s\n",
      "    Interval 0.000–2.000 s\n",
      "    Interval 0.000–2.000 s\n",
      "    Interval 0.000–2.000 s\n",
      "    Interval 0.000–2.000 s\n",
      "    Interval 0.000–2.000 s\n",
      "    Interval 0.000–2.000 s\n",
      "    Interval 0.000–2.000 s\n",
      "    Interval 0.000–2.000 s\n",
      "    Interval 0.000–2.000 s\n",
      "    Interval 0.000–2.000 s\n",
      "    Interval 0.000–2.000 s\n",
      "    Interval 0.000–2.000 s\n",
      "    Interval 0.000–2.000 s\n",
      "    Interval 0.000–2.000 s\n",
      "    Interval 0.000–2.000 s\n",
      "    Interval 0.000–2.000 s\n",
      "    Interval 0.000–2.000 s\n",
      "    Interval 0.000–2.000 s\n",
      "    Interval 0.000–2.000 s\n",
      "    Interval 0.000–1.000 s\n",
      "    28 STC iterations provided\n",
      "[done]\n",
      "Adding noise to 62/62 channels (62 channels in cov)\n",
      "Sphere                : origin at (0.0 0.0 0.0) mm\n",
      "              radius  : 0.1 mm\n",
      "Source location file  : dict()\n",
      "Assuming input in millimeters\n",
      "Assuming input in MRI coordinates\n",
      "\n",
      "Positions (in meters) and orientations\n",
      "2 sources\n",
      "blink simulated and trace not stored\n",
      "Setting up forward solutions\n",
      "Overwriting existing file.\n",
      "Writing /Users/payamsadeghishabestari/ANT/data/simulated/pericalcarine-lh_10Hz_2-raw.fif\n",
      "Overwriting existing file.\n",
      "Closing /Users/payamsadeghishabestari/ANT/data/simulated/pericalcarine-lh_10Hz_2-raw.fif\n",
      "[done]\n"
     ]
    },
    {
     "name": "stderr",
     "output_type": "stream",
     "text": [
      "/Users/payamsadeghishabestari/ANT/src/ant/tools/simulation.py:137: RuntimeWarning: No average EEG reference present in info[\"projs\"], covariance may be adversely affected. Consider recomputing covariance using with an average eeg reference projector added.\n",
      "  add_noise(raw, cov, iir_filter=iir_filter)\n"
     ]
    }
   ],
   "source": [
    "kwargs = {\n",
    "    \"brain_label\": \"pericalcarine-lh\",\n",
    "    \"frequency\": 10,\n",
    "    \"amplitude\": 2,\n",
    "    \"duration\": 1,\n",
    "    \"gap_duration\": 7,\n",
    "    \"n_repetition\": 8,\n",
    "    \"start\": 5,\n",
    "    \"fname_save\": None\n",
    "}\n",
    "raw = simulate_eeg_raw(**kwargs)"
   ]
  },
  {
   "cell_type": "code",
   "execution_count": null,
   "metadata": {},
   "outputs": [],
   "source": [
    "raw.plot()"
   ]
  },
  {
   "cell_type": "markdown",
   "metadata": {},
   "source": [
    "Stream a recording"
   ]
  },
  {
   "cell_type": "code",
   "execution_count": null,
   "metadata": {},
   "outputs": [],
   "source": [
    "brain_label = \"pericalcarine-lh\"\n",
    "frequency = 10\n",
    "amplitude = 2\n",
    "fname = Path.cwd().parent / \"data\" / \"simulated\" / f\"{brain_label}_{frequency}Hz_{amplitude}-raw.fif\"\n",
    "\n",
    "kwargs = {\n",
    "            \"subject_id\": \"bert\",\n",
    "            \"visit\": 1,\n",
    "            \"subjects_dir\": Path.cwd().parent / \"data\" / \"subjects\",\n",
    "            \"montage\": \"easycap-M1\",\n",
    "            \"mri\": False,\n",
    "            \"artifact_correction\": False\n",
    "            \"show_raw_signal\": False,\n",
    "            \"show_nf_signa\": True,\n",
    "            \"show_design_viz\": False,\n",
    "            \"design_viz\": \"VisualRorschach\"\n",
    "        }\n",
    "nf = NFRealtime(session=\"baseline\", **kwargs)\n",
    "nf.connect_to_lsl(mock_lsl=True, fname=fname)\n",
    "time.sleep(4)\n",
    "nf.record_baseline(baseline_duration=6)"
   ]
  },
  {
   "cell_type": "code",
   "execution_count": null,
   "metadata": {},
   "outputs": [],
   "source": [
    "nf.plot_rt()\n",
    "print(\"hello\")"
   ]
  },
  {
   "cell_type": "code",
   "execution_count": null,
   "metadata": {},
   "outputs": [],
   "source": [
    "nf.record_main(\n",
    "                duration=30, \n",
    "                modality=['sensor_power', 'band_ratio', 'entropy'],\n",
    "                picks=None,\n",
    "                winsize=1,\n",
    "                estimate_delays=True,\n",
    "                modality_params=None,\n",
    "                visualize_nf=True\n",
    "                )"
   ]
  },
  {
   "cell_type": "code",
   "execution_count": null,
   "metadata": {},
   "outputs": [],
   "source": [
    "import ant\n",
    "print(ant.__version__)"
   ]
  }
 ],
 "metadata": {
  "kernelspec": {
   "display_name": "venv (3.10.9)",
   "language": "python",
   "name": "python3"
  },
  "language_info": {
   "codemirror_mode": {
    "name": "ipython",
    "version": 3
   },
   "file_extension": ".py",
   "mimetype": "text/x-python",
   "name": "python",
   "nbconvert_exporter": "python",
   "pygments_lexer": "ipython3",
   "version": "3.10.9"
  }
 },
 "nbformat": 4,
 "nbformat_minor": 2
}
