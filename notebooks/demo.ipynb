{
 "cells": [
  {
   "cell_type": "code",
   "execution_count": null,
   "metadata": {},
   "outputs": [
    {
     "name": "stderr",
     "output_type": "stream",
     "text": [
      "/Users/payamsadeghishabestari/ANT/src/ant/tools/tools.py:13: DeprecationWarning: \n",
      "The `fooof` package is being deprecated and replaced by the `specparam` (spectral parameterization) package.\n",
      "This version of `fooof` (1.1) is fully functional, but will not be further updated.\n",
      "New projects are recommended to update to using `specparam` (see Changelog for details).\n",
      "  from fooof import FOOOF\n"
     ]
    }
   ],
   "source": [
    "%matplotlib qt\n",
    "from pathlib import Path\n",
    "from ant.tools import simulate_eeg_raw\n",
    "from ant import NFRealtime\n",
    "import time"
   ]
  },
  {
   "cell_type": "markdown",
   "metadata": {},
   "source": [
    "Simulate a recording"
   ]
  },
  {
   "cell_type": "code",
   "execution_count": null,
   "metadata": {},
   "outputs": [],
   "source": [
    "kwargs = {\n",
    "    \"brain_label\": \"pericalcarine-lh\",\n",
    "    \"frequency\": 10,\n",
    "    \"amplitude\": 1,\n",
    "    \"duration\": 1,\n",
    "    \"gap_duration\": 6,\n",
    "    \"n_repetition\": 8,\n",
    "    \"start\": 5,\n",
    "    \"fname_save\": None\n",
    "}\n",
    "raw = simulate_eeg_raw(**kwargs)"
   ]
  },
  {
   "cell_type": "code",
   "execution_count": null,
   "metadata": {},
   "outputs": [],
   "source": [
    "raw.plot()"
   ]
  },
  {
   "cell_type": "markdown",
   "metadata": {},
   "source": [
    "Stream a recording"
   ]
  },
  {
   "cell_type": "code",
   "execution_count": 2,
   "metadata": {},
   "outputs": [
    {
     "name": "stderr",
     "output_type": "stream",
     "text": [
      "2025-09-17 10:46:05.453 (   0.608s) [           34B0D]      netinterfaces.cpp:91    INFO| netif 'lo0' (status: 1, multicast: 32768, broadcast: 0)\n",
      "2025-09-17 10:46:05.453 (   0.608s) [           34B0D]      netinterfaces.cpp:91    INFO| netif 'lo0' (status: 1, multicast: 32768, broadcast: 0)\n",
      "2025-09-17 10:46:05.453 (   0.608s) [           34B0D]      netinterfaces.cpp:102   INFO| \tIPv4 addr: 7f000001\n",
      "2025-09-17 10:46:05.453 (   0.608s) [           34B0D]      netinterfaces.cpp:91    INFO| netif 'lo0' (status: 1, multicast: 32768, broadcast: 0)\n",
      "2025-09-17 10:46:05.453 (   0.608s) [           34B0D]      netinterfaces.cpp:105   INFO| \tIPv6 addr: ::1\n",
      "2025-09-17 10:46:05.453 (   0.608s) [           34B0D]      netinterfaces.cpp:91    INFO| netif 'lo0' (status: 1, multicast: 32768, broadcast: 0)\n",
      "2025-09-17 10:46:05.453 (   0.608s) [           34B0D]      netinterfaces.cpp:105   INFO| \tIPv6 addr: fe80::1%lo0\n",
      "2025-09-17 10:46:05.453 (   0.608s) [           34B0D]      netinterfaces.cpp:91    INFO| netif 'gif0' (status: 0, multicast: 32768, broadcast: 0)\n",
      "2025-09-17 10:46:05.453 (   0.608s) [           34B0D]      netinterfaces.cpp:91    INFO| netif 'stf0' (status: 0, multicast: 0, broadcast: 0)\n",
      "2025-09-17 10:46:05.453 (   0.608s) [           34B0D]      netinterfaces.cpp:91    INFO| netif 'anpi0' (status: 1, multicast: 32768, broadcast: 2)\n",
      "2025-09-17 10:46:05.453 (   0.608s) [           34B0D]      netinterfaces.cpp:91    INFO| netif 'anpi1' (status: 1, multicast: 32768, broadcast: 2)\n",
      "2025-09-17 10:46:05.453 (   0.608s) [           34B0D]      netinterfaces.cpp:91    INFO| netif 'anpi2' (status: 1, multicast: 32768, broadcast: 2)\n",
      "2025-09-17 10:46:05.453 (   0.608s) [           34B0D]      netinterfaces.cpp:91    INFO| netif 'en4' (status: 1, multicast: 32768, broadcast: 2)\n",
      "2025-09-17 10:46:05.453 (   0.608s) [           34B0D]      netinterfaces.cpp:91    INFO| netif 'en5' (status: 1, multicast: 32768, broadcast: 2)\n",
      "2025-09-17 10:46:05.453 (   0.608s) [           34B0D]      netinterfaces.cpp:91    INFO| netif 'en6' (status: 1, multicast: 32768, broadcast: 2)\n",
      "2025-09-17 10:46:05.453 (   0.608s) [           34B0D]      netinterfaces.cpp:91    INFO| netif 'en1' (status: 1, multicast: 32768, broadcast: 2)\n",
      "2025-09-17 10:46:05.453 (   0.608s) [           34B0D]      netinterfaces.cpp:91    INFO| netif 'en2' (status: 1, multicast: 32768, broadcast: 2)\n",
      "2025-09-17 10:46:05.453 (   0.608s) [           34B0D]      netinterfaces.cpp:91    INFO| netif 'en3' (status: 1, multicast: 32768, broadcast: 2)\n",
      "2025-09-17 10:46:05.453 (   0.608s) [           34B0D]      netinterfaces.cpp:91    INFO| netif 'en7' (status: 1, multicast: 32768, broadcast: 2)\n",
      "2025-09-17 10:46:05.453 (   0.608s) [           34B0D]      netinterfaces.cpp:91    INFO| netif 'ap1' (status: 1, multicast: 32768, broadcast: 2)\n",
      "2025-09-17 10:46:05.453 (   0.608s) [           34B0D]      netinterfaces.cpp:91    INFO| netif 'en0' (status: 1, multicast: 32768, broadcast: 2)\n",
      "2025-09-17 10:46:05.453 (   0.608s) [           34B0D]      netinterfaces.cpp:91    INFO| netif 'en0' (status: 1, multicast: 32768, broadcast: 2)\n",
      "2025-09-17 10:46:05.453 (   0.608s) [           34B0D]      netinterfaces.cpp:105   INFO| \tIPv6 addr: fe80::18a6:ca75:831f:46ac%en0\n",
      "2025-09-17 10:46:05.453 (   0.608s) [           34B0D]      netinterfaces.cpp:91    INFO| netif 'en0' (status: 1, multicast: 32768, broadcast: 2)\n",
      "2025-09-17 10:46:05.453 (   0.608s) [           34B0D]      netinterfaces.cpp:102   INFO| \tIPv4 addr: a1a5cc6\n",
      "2025-09-17 10:46:05.453 (   0.608s) [           34B0D]      netinterfaces.cpp:91    INFO| netif 'bridge0' (status: 1, multicast: 32768, broadcast: 2)\n",
      "2025-09-17 10:46:05.453 (   0.608s) [           34B0D]      netinterfaces.cpp:91    INFO| netif 'awdl0' (status: 1, multicast: 32768, broadcast: 2)\n",
      "2025-09-17 10:46:05.453 (   0.608s) [           34B0D]      netinterfaces.cpp:91    INFO| netif 'awdl0' (status: 1, multicast: 32768, broadcast: 2)\n",
      "2025-09-17 10:46:05.453 (   0.608s) [           34B0D]      netinterfaces.cpp:105   INFO| \tIPv6 addr: fe80::186f:81ff:fe45:7f60%awdl0\n",
      "2025-09-17 10:46:05.453 (   0.608s) [           34B0D]      netinterfaces.cpp:91    INFO| netif 'llw0' (status: 1, multicast: 32768, broadcast: 2)\n",
      "2025-09-17 10:46:05.453 (   0.608s) [           34B0D]      netinterfaces.cpp:91    INFO| netif 'llw0' (status: 1, multicast: 32768, broadcast: 2)\n",
      "2025-09-17 10:46:05.453 (   0.608s) [           34B0D]      netinterfaces.cpp:105   INFO| \tIPv6 addr: fe80::186f:81ff:fe45:7f60%llw0\n",
      "2025-09-17 10:46:05.453 (   0.608s) [           34B0D]      netinterfaces.cpp:91    INFO| netif 'utun0' (status: 1, multicast: 32768, broadcast: 0)\n",
      "2025-09-17 10:46:05.453 (   0.608s) [           34B0D]      netinterfaces.cpp:91    INFO| netif 'utun0' (status: 1, multicast: 32768, broadcast: 0)\n",
      "2025-09-17 10:46:05.453 (   0.608s) [           34B0D]      netinterfaces.cpp:105   INFO| \tIPv6 addr: fe80::479c:a3cd:25ac:618f%utun0\n",
      "2025-09-17 10:46:05.453 (   0.608s) [           34B0D]      netinterfaces.cpp:91    INFO| netif 'utun1' (status: 1, multicast: 32768, broadcast: 0)\n",
      "2025-09-17 10:46:05.453 (   0.608s) [           34B0D]      netinterfaces.cpp:91    INFO| netif 'utun1' (status: 1, multicast: 32768, broadcast: 0)\n",
      "2025-09-17 10:46:05.453 (   0.608s) [           34B0D]      netinterfaces.cpp:105   INFO| \tIPv6 addr: fe80::37fc:654b:c7db:cd61%utun1\n",
      "2025-09-17 10:46:05.453 (   0.608s) [           34B0D]      netinterfaces.cpp:91    INFO| netif 'utun2' (status: 1, multicast: 32768, broadcast: 0)\n",
      "2025-09-17 10:46:05.453 (   0.608s) [           34B0D]      netinterfaces.cpp:91    INFO| netif 'utun2' (status: 1, multicast: 32768, broadcast: 0)\n",
      "2025-09-17 10:46:05.453 (   0.608s) [           34B0D]      netinterfaces.cpp:105   INFO| \tIPv6 addr: fe80::580c:282b:f226:7194%utun2\n",
      "2025-09-17 10:46:05.453 (   0.608s) [           34B0D]      netinterfaces.cpp:91    INFO| netif 'utun3' (status: 1, multicast: 32768, broadcast: 0)\n",
      "2025-09-17 10:46:05.453 (   0.608s) [           34B0D]      netinterfaces.cpp:91    INFO| netif 'utun3' (status: 1, multicast: 32768, broadcast: 0)\n",
      "2025-09-17 10:46:05.453 (   0.608s) [           34B0D]      netinterfaces.cpp:105   INFO| \tIPv6 addr: fe80::ce81:b1c:bd2c:69e%utun3\n",
      "2025-09-17 10:46:05.453 (   0.608s) [           34B0D]         api_config.cpp:271   INFO| Loaded default config\n",
      "2025-09-17 10:46:05.457 (   0.613s) [           34B0D]             common.cpp:66    INFO| git:/branch:HEAD/build:Release/compiler:AppleClang-15.0.0.15000309/link:SHARED\n",
      "2025-09-17 10:46:05.458 (   0.613s) [           34B0D]         udp_server.cpp:82    WARN| Could not bind multicast responder for ff02:113d:6fdd:2c17:a643:ffe2:1bd1:3cd2 to interface ::1 (Can't assign requested address)\n",
      "2025-09-17 10:46:05.458 (   0.613s) [           34B0D]         udp_server.cpp:82    WARN| Could not bind multicast responder for ff05:113d:6fdd:2c17:a643:ffe2:1bd1:3cd2 to interface ::1 (Can't assign requested address)\n"
     ]
    },
    {
     "name": "stdout",
     "output_type": "stream",
     "text": [
      "Recording initiated ...\n"
     ]
    },
    {
     "name": "stderr",
     "output_type": "stream",
     "text": [
      "/Users/payamsadeghishabestari/ANT/src/ant/tools/tools.py:400: RuntimeWarning: No average EEG reference present in info[\"projs\"], covariance may be adversely affected. Consider recomputing covariance using with an average eeg reference projector added.\n",
      "  inverse_operator = make_inverse_operator(raw_baseline.info, fwd, noise_cov)\n",
      "/Users/payamsadeghishabestari/ANT/src/ant/tools/tools.py:400: RuntimeWarning: No average EEG reference present in info[\"projs\"], covariance may be adversely affected. Consider recomputing covariance using with an average eeg reference projector added.\n",
      "  inverse_operator = make_inverse_operator(raw_baseline.info, fwd, noise_cov)\n",
      "/Users/payamsadeghishabestari/ANT/src/ant/tools/tools.py:677: RuntimeWarning: The provided Raw instance does not seem to be referenced to a common average reference (CAR). ICLabel was designed to classify features extracted from an EEG dataset referenced to a CAR (see the 'set_eeg_reference()' method for Raw and Epochs instances).\n",
      "  ic_dict = label_components(raw, ica, method=\"iclabel\")\n",
      "/Users/payamsadeghishabestari/ANT/src/ant/tools/tools.py:677: RuntimeWarning: The provided Raw instance is not filtered between 1 and 100 Hz. ICLabel was designed to classify features extracted from an EEG dataset bandpass filtered between 1 and 100 Hz (see the 'filter()' method for Raw and Epochs instances).\n",
      "  ic_dict = label_components(raw, ica, method=\"iclabel\")\n"
     ]
    }
   ],
   "source": [
    "brain_label = \"pericalcarine-lh\"\n",
    "frequency = 10\n",
    "amplitude = 2\n",
    "fname = Path.cwd().parent / \"data\" / \"simulated\" / f\"{brain_label}_{frequency}Hz_{amplitude}-raw.fif\"\n",
    "\n",
    "kwargs = {\n",
    "            \"subject_id\": \"bert\",\n",
    "            \"visit\": 10,\n",
    "            \"subjects_dir\": Path.cwd().parent / \"data\" / \"subjects\",\n",
    "            \"montage\": \"easycap-M1\",\n",
    "            \"mri\": False,\n",
    "            \"artifact_correction\": False,\n",
    "            \"verbose\": False\n",
    "        }\n",
    "nf = NFRealtime(session=\"baseline\", **kwargs)\n",
    "nf.connect_to_lsl(mock_lsl=True, fname=fname)\n",
    "time.sleep(4)\n",
    "nf.record_baseline(baseline_duration=6)\n",
    "nf.get_blink_template()"
   ]
  },
  {
   "cell_type": "code",
   "execution_count": null,
   "metadata": {},
   "outputs": [],
   "source": [
    "nf.plot_rt()\n",
    "print(\"hello\")"
   ]
  },
  {
   "cell_type": "code",
   "execution_count": null,
   "metadata": {},
   "outputs": [],
   "source": [
    "nf.record_main(\n",
    "                duration=10, \n",
    "                modality=[\"source_power\", \"entropy\"],# , \"sensor_connectivity\", \"sensor_graph\", \"individual_peak_power\"],\n",
    "                picks=None,\n",
    "                winsize=1,\n",
    "                estimate_delays=True,\n",
    "                modality_params=None,\n",
    "                show_raw_signal= False,\n",
    "                show_nf_signal= True,\n",
    "                time_window=20,\n",
    "                show_design_viz= False,\n",
    "                design_viz= \"VisualRorschach\",\n",
    "                show_brain_activation=False\n",
    "                )"
   ]
  }
 ],
 "metadata": {
  "kernelspec": {
   "display_name": "venv (3.10.9)",
   "language": "python",
   "name": "python3"
  },
  "language_info": {
   "codemirror_mode": {
    "name": "ipython",
    "version": 3
   },
   "file_extension": ".py",
   "mimetype": "text/x-python",
   "name": "python",
   "nbconvert_exporter": "python",
   "pygments_lexer": "ipython3",
   "version": "3.10.9"
  }
 },
 "nbformat": 4,
 "nbformat_minor": 2
}
