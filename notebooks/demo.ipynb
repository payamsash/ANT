{
 "cells": [
  {
   "cell_type": "code",
   "execution_count": null,
   "metadata": {},
   "outputs": [],
   "source": [
    "%matplotlib qt\n",
    "from pathlib import Path\n",
    "from ant.simulation import simulate_eeg_raw\n",
    "from ant import NFRealtime\n",
    "from mne.io import read_raw_fif\n",
    "import time"
   ]
  },
  {
   "cell_type": "markdown",
   "metadata": {},
   "source": [
    "Simulate a recording"
   ]
  },
  {
   "cell_type": "code",
   "execution_count": null,
   "metadata": {},
   "outputs": [],
   "source": [
    "brain_label = \"pericalcarine-lh\"\n",
    "frequency = 10\n",
    "amplitude = 2\n",
    "fname = Path.cwd().parent / \"data\" / \"simulated\" / f\"{brain_label}_{frequency}Hz_{amplitude}-raw.fif\"\n",
    "\n",
    "kwargs = {\n",
    "            \"subject_id\": \"bert\",\n",
    "            \"visit\": 1,\n",
    "            \"subjects_dir\": Path.cwd().parent / \"data\" / \"subjects\",\n",
    "            \"montage\": \"easycap-M1\",\n",
    "            \"mri\": False,\n",
    "            \"artifact_correction\": False\n",
    "        }\n",
    "nf = NFRealtime(session=\"baseline\", **kwargs)\n",
    "nf.connect_to_lsl(mock_lsl=True, fname=fname)\n",
    "time.sleep(4)\n",
    "nf.record_baseline(baseline_duration=6)"
   ]
  },
  {
   "cell_type": "code",
   "execution_count": null,
   "metadata": {},
   "outputs": [],
   "source": [
    "nf.plot_rt()"
   ]
  },
  {
   "cell_type": "code",
   "execution_count": null,
   "metadata": {},
   "outputs": [],
   "source": [
    "nf.record_main(\n",
    "                duration=30, \n",
    "                modality=['sensor_power', 'band_ratio', 'entropy'],\n",
    "                picks=None,\n",
    "                winsize=1,\n",
    "                estimate_delays=True,\n",
    "                modality_params=None,\n",
    "                visualize_nf=True\n",
    "                )"
   ]
  },
  {
   "cell_type": "code",
   "execution_count": null,
   "metadata": {},
   "outputs": [],
   "source": [
    "scales_dict = {\"sensor_power\": 1e-12,\n",
    "                                \"band_ratio\": 2,\n",
    "                                \"entropy\": 0.2,\n",
    "                                }\n"
   ]
  },
  {
   "cell_type": "code",
   "execution_count": null,
   "metadata": {},
   "outputs": [],
   "source": [
    "scales_dict[[\"band_ratio\", \"entropy\"]]"
   ]
  },
  {
   "cell_type": "code",
   "execution_count": null,
   "metadata": {},
   "outputs": [],
   "source": [
    "scales_dict = {\"sensor_power\": 1e-12,\n",
    "                                \"band_ratio\": 2,\n",
    "                                \"entropy\": 0.2,\n",
    "                                }\n",
    "\n",
    "[(0, sc) for scales_dict.vale\n"
   ]
  },
  {
   "cell_type": "code",
   "execution_count": null,
   "metadata": {},
   "outputs": [],
   "source": [
    "import numpy as np\n",
    "last_vals = [10, 5]\n",
    "last_vals = np.array(last_vals).reshape(-1, 1)\n",
    "last_vals.shape"
   ]
  },
  {
   "cell_type": "code",
   "execution_count": null,
   "metadata": {},
   "outputs": [],
   "source": [
    "n_labels = 2\n",
    "\n",
    "time_axis = np.linspace(0, 10, 500)\n",
    "\n",
    "pg = np.zeros((n_labels, len(time_axis)))\n",
    "\n",
    "x = np.roll(pg, -1, axis=1)"
   ]
  },
  {
   "cell_type": "code",
   "execution_count": null,
   "metadata": {},
   "outputs": [],
   "source": [
    "x = np.roll(pg, -1, axis=1)\n",
    "x.shape"
   ]
  },
  {
   "cell_type": "code",
   "execution_count": null,
   "metadata": {},
   "outputs": [],
   "source": [
    "x[:, -1] = last_vals[:, 0]"
   ]
  },
  {
   "cell_type": "code",
   "execution_count": null,
   "metadata": {},
   "outputs": [],
   "source": [
    "x.shape"
   ]
  },
  {
   "cell_type": "code",
   "execution_count": null,
   "metadata": {},
   "outputs": [],
   "source": [
    "plot_data[:, -1] = new_vals[:, 0]"
   ]
  },
  {
   "cell_type": "code",
   "execution_count": null,
   "metadata": {},
   "outputs": [],
   "source": [
    "\n",
    "x[:, -1] = last_vals[:, 0]"
   ]
  },
  {
   "cell_type": "code",
   "execution_count": null,
   "metadata": {},
   "outputs": [],
   "source": [
    "import json\n",
    "\n",
    "with open(\"/Users/payamsadeghishabestari/ANT/data/subjects/bert/neurofeedback/nf_data_visit_1_sensor_power.json\", \"r\") as f:\n",
    "    data = json.load(f)"
   ]
  },
  {
   "cell_type": "code",
   "execution_count": null,
   "metadata": {},
   "outputs": [],
   "source": [
    "nf.nf_data"
   ]
  },
  {
   "cell_type": "code",
   "execution_count": null,
   "metadata": {},
   "outputs": [],
   "source": [
    "nf.plot_rt()"
   ]
  },
  {
   "cell_type": "markdown",
   "metadata": {},
   "source": [
    "Simulate a recording"
   ]
  },
  {
   "cell_type": "code",
   "execution_count": null,
   "metadata": {},
   "outputs": [],
   "source": [
    "brain_label = \"pericalcarine-lh\"\n",
    "frequency = 10\n",
    "amplitude = 2\n",
    "\n",
    "simulate_eeg_raw(\n",
    "                brain_label=\"pericalcarine-lh\",\n",
    "                frequency=10,\n",
    "                amplitude=2,\n",
    "                duration=1,\n",
    "                gap_duration=6,\n",
    "                n_repetition=5,\n",
    "                start=3,\n",
    "                iir_filter=[0.2, -0.2, 0.04],\n",
    "                verbose=None,\n",
    ")"
   ]
  },
  {
   "cell_type": "markdown",
   "metadata": {},
   "source": [
    "Streaming"
   ]
  },
  {
   "cell_type": "code",
   "execution_count": null,
   "metadata": {},
   "outputs": [],
   "source": [
    "## initiate the object\n",
    "freq_range = (8, 13)\n",
    "picks = [\"P7\", \"P5\", \"P3\", \"PO3\", \"PO7\", \"O1\"]\n",
    "fif_file = \"/Users/payamsadeghishabestari/codes/mne-nf/simulated_data/pericalcarine-lh_10_2-raw.fif\"\n",
    "connection_params = {\"Mock_connection\": {\"fname\": fif_file}}\n",
    "\n",
    "nf = NF_Realtime(subject_id=\"sample\",\n",
    "                freq_range=freq_range,\n",
    "                picks=picks,\n",
    "                artifact_correction=False,\n",
    "                params_path=None,\n",
    "                verbose=False)\n",
    "\n",
    "nf.connect_lsl(session=\"baseline\", connection_params=connection_params, mock_lsl=True)\n",
    "time.sleep(1)\n",
    "#nf.record_baseline(baseline_duration=10)"
   ]
  },
  {
   "cell_type": "code",
   "execution_count": null,
   "metadata": {},
   "outputs": [],
   "source": [
    "nf.connect_lsl(session=\"main\", connection_params=connection_params, mock_lsl=True)"
   ]
  },
  {
   "cell_type": "code",
   "execution_count": null,
   "metadata": {},
   "outputs": [],
   "source": [
    "nf.record_nf(duration=60, modality=\"sensor_power\", modality_params=None)"
   ]
  },
  {
   "cell_type": "code",
   "execution_count": null,
   "metadata": {},
   "outputs": [],
   "source": [
    "nf.save()"
   ]
  },
  {
   "cell_type": "code",
   "execution_count": null,
   "metadata": {},
   "outputs": [],
   "source": [
    "nf.create_report()"
   ]
  },
  {
   "cell_type": "code",
   "execution_count": null,
   "metadata": {},
   "outputs": [],
   "source": [
    "fname = \"/Users/payamsadeghishabestari/codes/mne-nf/subjects/sample/sensor_power_nf_data.json\"\n",
    "with open(fname, 'r') as file:\n",
    "    data = json.load(file)\n",
    "\n",
    "data = np.array(data) * 1e12\n",
    "times = np.linspace(0, 60, len(data))\n",
    "fig, ax = plt.subplots(1, 1, figsize=(13, 4))\n",
    "ax.plot(times, data)\n",
    "ax.set_xlabel(\"time (s)\")\n",
    "ax.set_ylabel(\"power\")"
   ]
  }
 ],
 "metadata": {
  "kernelspec": {
   "display_name": "venv (3.10.9)",
   "language": "python",
   "name": "python3"
  },
  "language_info": {
   "codemirror_mode": {
    "name": "ipython",
    "version": 3
   },
   "file_extension": ".py",
   "mimetype": "text/x-python",
   "name": "python",
   "nbconvert_exporter": "python",
   "pygments_lexer": "ipython3",
   "version": "3.10.9"
  }
 },
 "nbformat": 4,
 "nbformat_minor": 2
}
