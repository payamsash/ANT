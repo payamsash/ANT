{
  "cells": [
    {
      "cell_type": "markdown",
      "metadata": {},
      "source": [
        "\n# Compare Delays Across Different Source Localization Methods\n\nThis example **visually compares the delays** observed for several common source\nlocalization techniques:\n\n- *MNE* - *Minimum Norm Estimate*\n- *dSPM* - *Dynamic Statistical Parametric Mapping*\n- *eLORETA* - *Exact Low-Resolution Electromagnetic Tomography*\n- *sLORETA* - *Standardized Low-Resolution Electromagnetic Tomography*\n- *LCMV* - *Linearly Constrained Minimum Variance beamformer*\n"
      ]
    },
    {
      "cell_type": "markdown",
      "metadata": {},
      "source": [
        "Now let's load data and visualize each method's delay.\n\n"
      ]
    },
    {
      "cell_type": "code",
      "execution_count": null,
      "metadata": {
        "collapsed": false
      },
      "outputs": [],
      "source": [
        "from pathlib import Path\nimport pandas as pd\nimport matplotlib.pyplot as plt\nimport seaborn as sns\n\nfname = Path.cwd().parent / \"data\" / \"sample\" / \"SL_method_delays.csv\"\ndf = pd.read_csv(fname, index_col=0)"
      ]
    },
    {
      "cell_type": "markdown",
      "metadata": {},
      "source": [
        "Helper function for labeling each row\n\n"
      ]
    },
    {
      "cell_type": "code",
      "execution_count": null,
      "metadata": {
        "collapsed": false
      },
      "outputs": [],
      "source": [
        "def label(x, color, label):\n    ax = plt.gca()\n    ax.text(0.8, .2, label, fontweight=\"bold\", fontstyle='italic', color=color,\n            ha=\"left\", va=\"center\", transform=ax.transAxes)"
      ]
    },
    {
      "cell_type": "markdown",
      "metadata": {},
      "source": [
        "Function to plot KDEs for a list of methods\n\n"
      ]
    },
    {
      "cell_type": "code",
      "execution_count": null,
      "metadata": {
        "collapsed": false
      },
      "outputs": [],
      "source": [
        "def plot_method_delays(df, method_names, xlim, ylim, bw_adjust=1, top=0.72):\n    \"\"\"\n    Plot KDEs of delays for specified neurofeedback methods.\n\n    Parameters\n    ----------\n    df : pandas.DataFrame\n        Must contain columns 'method' and 'delay'.\n    method_names : list of str\n        Methods to plot.\n    xlim : list of float\n        X-axis limits.\n    ylim : list of float\n        Y-axis limits.\n    bw_adjust : float, optional\n        Bandwidth adjustment for KDE (default 1).\n    top : float, optional\n        Top position for FacetGrid (default 0.72).\n\n    Returns\n    -------\n    g : seaborn.FacetGrid\n        FacetGrid object.\n    \"\"\"\n    df_sub = df.query(\"method == @method_names\")\n    pal = sns.cubehelix_palette(len(method_names), rot=-.05, light=.6)\n\n    g = sns.FacetGrid(\n        df_sub, row=\"method\", hue=\"method\", aspect=14, height=1,\n        palette=pal, row_order=method_names, xlim=xlim, ylim=ylim\n    )\n\n    g.map(sns.kdeplot, \"delay\", bw_adjust=bw_adjust, clip_on=False, clip=xlim,\n            fill=True, alpha=1, linewidth=1.5)\n    g.map(sns.kdeplot, \"delay\", clip_on=False, color=\"w\", clip=xlim,\n            lw=2, bw_adjust=bw_adjust)\n    g.refline(y=0, linewidth=2, linestyle=\"-\", color=None, clip_on=False)\n    g.map(label, \"delay\")\n\n    g.figure.subplots_adjust(hspace=.15, top=top)\n    g.set_titles(\"\")\n    g.set(yticks=[], ylabel=\"\", xlabel=r\"method delay ($s$)\")\n    g.despine(bottom=True, left=True)\n    return g"
      ]
    },
    {
      "cell_type": "markdown",
      "metadata": {},
      "source": [
        "Next, visualize delays for \"dSPM\", \"MNE\", \"sLORETA\", \"LCMV\"\n\n"
      ]
    },
    {
      "cell_type": "code",
      "execution_count": null,
      "metadata": {
        "collapsed": false
      },
      "outputs": [],
      "source": [
        "plot_method_delays(\n    df,\n    [\"dSPM\", \"MNE\", \"sLORETA\", \"LCMV\"],\n    xlim=[0, 0.15],\n    ylim=[0, 250]\n)\nplt.show()"
      ]
    },
    {
      "cell_type": "markdown",
      "metadata": {},
      "source": [
        "Next, visualize delays for \"eLORETA\"\n\n"
      ]
    },
    {
      "cell_type": "code",
      "execution_count": null,
      "metadata": {
        "collapsed": false
      },
      "outputs": [],
      "source": [
        "plot_method_delays(\n    df,\n    [\"eLORETA\"],\n    xlim=[0.7, 1.1],\n    ylim=[0, 40]\n)\nplt.show()"
      ]
    }
  ],
  "metadata": {
    "kernelspec": {
      "display_name": "Python 3",
      "language": "python",
      "name": "python3"
    },
    "language_info": {
      "codemirror_mode": {
        "name": "ipython",
        "version": 3
      },
      "file_extension": ".py",
      "mimetype": "text/x-python",
      "name": "python",
      "nbconvert_exporter": "python",
      "pygments_lexer": "ipython3",
      "version": "3.10.9"
    }
  },
  "nbformat": 4,
  "nbformat_minor": 0
}